{
 "cells": [
  {
   "cell_type": "code",
   "execution_count": 1,
   "id": "7f097cd9",
   "metadata": {},
   "outputs": [],
   "source": [
    "from bs4 import BeautifulSoup as bs\n",
    "import requests\n",
    "import pandas as pd\n",
    "import time\n",
    "import csv"
   ]
  },
  {
   "cell_type": "code",
   "execution_count": 2,
   "id": "ef5ac4e4",
   "metadata": {},
   "outputs": [],
   "source": [
    "\n",
    "headers = {'User-Agent': 'Mozilla/5.0 (Windows NT 6.1; WOW64) AppleWebKit/537.36 (KHTML, like Gecko) Chrome/107.0.5304.107 Safari/537.36'}"
   ]
  },
  {
   "cell_type": "code",
   "execution_count": 3,
   "id": "9accccbe",
   "metadata": {},
   "outputs": [],
   "source": [
    "base_url = 'https://www.themoviedb.org/movie?page='\n",
    "\n",
    "all_page = []\n",
    "\n",
    "for item in range(51):\n",
    "    all_page.append(base_url+str(item))"
   ]
  },
  {
   "cell_type": "code",
   "execution_count": 4,
   "id": "25b743c3",
   "metadata": {},
   "outputs": [],
   "source": [
    "#all_page"
   ]
  },
  {
   "cell_type": "code",
   "execution_count": 5,
   "id": "05fb90b1",
   "metadata": {},
   "outputs": [],
   "source": [
    "all_movie_data = []\n",
    "\n",
    "for data in all_page:\n",
    "    source = requests.get(data,headers=headers).text\n",
    "    common = 'https://www.themoviedb.org'\n",
    "    soup = bs(source,'lxml')\n",
    "    div = soup.find_all('div',class_='image')\n",
    "    for item in div:\n",
    "        link = item.find('a')['href']\n",
    "        combine = (common+str(link))\n",
    "        source_1 = requests.get(combine,headers=headers).text\n",
    "        soup_1 = bs(source_1,'lxml')\n",
    "        div_1 = soup_1.find_all('div',class_='single_column')\n",
    "        div_2 = soup_1.find_all('li',class_='profile')    \n",
    "        cast = (combine+'/cast')\n",
    "        cast_source_data1 = requests.get(cast,headers=headers).text\n",
    "        cast_soup = bs(cast_source_data1,'lxml')\n",
    "        cast_div = cast_soup.find_all('div',class_='crew_wrapper')\n",
    "        for item_1 in div_1:\n",
    "            try:\n",
    "                movie = item_1.find('h2').text.split('(')[0].strip()\n",
    "            except:\n",
    "                movie = ('Null')\n",
    "\n",
    "            try:\n",
    "                rating = item_1.find('div',class_='user_score_chart')['data-percent']\n",
    "            except:\n",
    "                rating = ('Null')\n",
    "\n",
    "            try:\n",
    "                genre = item_1.find('span',class_='genres').text.strip()\n",
    "            except:\n",
    "                genre = ('Null')\n",
    "            try:\n",
    "                release = item_1.find('span',class_='release').text.strip().split('(')[0]\n",
    "            except:\n",
    "                release = ('Null')\n",
    "\n",
    "            try:\n",
    "                runtime = item_1.find('span',class_='runtime').text.strip()\n",
    "            except:\n",
    "                runtime = ('Null')\n",
    "\n",
    "            try:\n",
    "                url_1 = item_1.find('h2')\n",
    "                url = url_1.find('a')['href']\n",
    "                movie_url = (common+str(url))\n",
    "            except:\n",
    "                movie_url = ('Null')\n",
    "\n",
    "            try:\n",
    "                for i in cast_div:\n",
    "                    dr = i.find('h4').text\n",
    "                    if 'Directing' == dr:\n",
    "                        d = i.find('div',class_='info')\n",
    "                        director = d.find('a').text\n",
    "            except:\n",
    "                director = 'Null'\n",
    "\n",
    "        data = {\n",
    "            'Movie' : movie,\n",
    "            'Rating' : rating,\n",
    "            'Genre' : genre,\n",
    "            'Release Date' : release,\n",
    "            'Runtime' : runtime,\n",
    "            'Director' : director,\n",
    "            'URL' : movie_url\n",
    "            }\n",
    "        all_movie_data.append(data)"
   ]
  },
  {
   "cell_type": "code",
   "execution_count": 6,
   "id": "011ab88f",
   "metadata": {},
   "outputs": [],
   "source": [
    "df = pd.DataFrame(all_movie_data)"
   ]
  },
  {
   "cell_type": "code",
   "execution_count": 7,
   "id": "638690a7",
   "metadata": {},
   "outputs": [],
   "source": [
    "df.to_csv('movielist.csv')"
   ]
  },
  {
   "cell_type": "code",
   "execution_count": null,
   "id": "d43e6534",
   "metadata": {},
   "outputs": [],
   "source": []
  }
 ],
 "metadata": {
  "kernelspec": {
   "display_name": "Python 3 (ipykernel)",
   "language": "python",
   "name": "python3"
  },
  "language_info": {
   "codemirror_mode": {
    "name": "ipython",
    "version": 3
   },
   "file_extension": ".py",
   "mimetype": "text/x-python",
   "name": "python",
   "nbconvert_exporter": "python",
   "pygments_lexer": "ipython3",
   "version": "3.9.13"
  }
 },
 "nbformat": 4,
 "nbformat_minor": 5
}
