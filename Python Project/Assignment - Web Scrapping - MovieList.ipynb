{
 "cells": [
  {
   "cell_type": "code",
   "execution_count": null,
   "id": "a3716867",
   "metadata": {},
   "outputs": [],
   "source": [
    "import requests\n",
    "from bs4 import BeautifulSoup as BS\n",
    "session =requests.session()\n",
    "session.headers\n",
    "import pandas as pd\n",
    "import csv\n",
    "headers = {'User-Agent': 'Mozilla/5.0 (Windows NT 6.1; WOW64) AppleWebKit/537.36 (KHTML, like Gecko) Chrome/107.0.5304.107 Safari/537.36'}"
   ]
  },
  {
   "cell_type": "code",
   "execution_count": null,
   "id": "9ad57351",
   "metadata": {},
   "outputs": [],
   "source": [
    "main_url = 'https://www.themoviedb.org/movie?page='\n",
    "\n",
    "page_url = []\n",
    "movie_link = []\n",
    "movie_url = []\n",
    "\n",
    "for item in range(1,4+1):\n",
    "    page_url.append(main_url+str(item))\n",
    "    for page in page_url:\n",
    "        source_data = requests.get(page,headers=headers).text\n",
    "        soup_data = BS(source_data,'lxml')\n",
    "        div = soup_data.find_all('div',class_='card style_1')\n",
    "        for a in div:\n",
    "            link = a.find('a')['href']\n",
    "            x = (common_url+str(link))\n",
    "            movie_url.append(x)"
   ]
  },
  {
   "cell_type": "code",
   "execution_count": null,
   "id": "e1c7d1d1",
   "metadata": {},
   "outputs": [],
   "source": [
    "common_url = 'https://www.themoviedb.org'\n",
    "\n",
    "all_movie_data = []\n",
    "\n",
    "count = 0\n",
    "crew_list = []\n",
    "director_list = []\n",
    "\n",
    "\n",
    "\n",
    "for movie in movie_url:\n",
    "    source_data1 = requests.get(movie,headers=headers).text\n",
    "    soup_data1 = BS(source_data1,'lxml')\n",
    "    all_divs1 = soup_data1.find_all('div',class_='header large border first')\n",
    "    for item in all_divs1:\n",
    "        movie_name = item.find('h2')\n",
    "        m_n =movie_name.find('a').text\n",
    "        movie_name = item.find('h2')\n",
    "        m_n =movie_name.find('a').text\n",
    "        movie_rating = item.find('div',class_='user_score_chart')['data-percent']\n",
    "        movie_genre = item.find('span',class_='genres').text.strip()\n",
    "        movie_release_date = item.find('span',class_='release').text.strip()[0:11]\n",
    "        movie_runtime = item.find('span',class_='runtime').text.strip()   \n",
    "        movie_link = item.find('h2')\n",
    "        mu = movie_link.find('a')['href']\n",
    "        m_url = (common_url+mu)\n",
    "    for a in item.find_all('p'):\n",
    "        count += 1\n",
    "        crew_list.append(a)\n",
    "        if a.text.strip() == 'Director' or a.text.strip() == 'Director, Writer' or a.text.strip() == 'Director, Screenplay, Story':\n",
    "            director_position = count-2\n",
    "            director1 = crew_list[director_position].text\n",
    "            director_list.append(director1)\n",
    "\n",
    "        \n",
    "    data = {\n",
    "        'Movie' : m_n,\n",
    "        'Rating' : movie_rating,\n",
    "        'Genre' : movie_genre,\n",
    "        'Release Date' : movie_release_date,\n",
    "        'Runtime' : movie_runtime,\n",
    "        'Director' : director1,\n",
    "        'URL' : m_url\n",
    "        }\n",
    "    all_movie_data.append(data)\n",
    "    \n",
    "            \n",
    "            \n",
    "            \n",
    "    \n",
    "  "
   ]
  },
  {
   "cell_type": "code",
   "execution_count": null,
   "id": "b2788207",
   "metadata": {},
   "outputs": [],
   "source": [
    "df = pd.DataFrame(all_movie_data)"
   ]
  },
  {
   "cell_type": "code",
   "execution_count": null,
   "id": "55662dcf",
   "metadata": {},
   "outputs": [],
   "source": [
    "df"
   ]
  },
  {
   "cell_type": "code",
   "execution_count": null,
   "id": "200d3f14",
   "metadata": {},
   "outputs": [],
   "source": [
    "keys = all_movie_data[0].keys()\n",
    "with open('MovieList.csv','w',newline='') as op_file:\n",
    "    dict_writer = csv.DictWriter(op_file,keys)\n",
    "    dict_writer.writeheader()\n",
    "    dict_writer.writerows(all_movie_data)"
   ]
  },
  {
   "cell_type": "code",
   "execution_count": null,
   "id": "965c6c02",
   "metadata": {},
   "outputs": [],
   "source": []
  }
 ],
 "metadata": {
  "kernelspec": {
   "display_name": "Python 3 (ipykernel)",
   "language": "python",
   "name": "python3"
  },
  "language_info": {
   "codemirror_mode": {
    "name": "ipython",
    "version": 3
   },
   "file_extension": ".py",
   "mimetype": "text/x-python",
   "name": "python",
   "nbconvert_exporter": "python",
   "pygments_lexer": "ipython3",
   "version": "3.9.13"
  }
 },
 "nbformat": 4,
 "nbformat_minor": 5
}
