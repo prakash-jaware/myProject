{
 "cells": [
  {
   "cell_type": "code",
   "execution_count": 56,
   "id": "9c99300a",
   "metadata": {},
   "outputs": [
    {
     "name": "stdout",
     "output_type": "stream",
     "text": [
      "Hi, My name is Prakash,\n",
      "i'm staying in Khar.\n"
     ]
    }
   ],
   "source": [
    "d = open ('abc.txt','r')\n",
    "print(d.read())\n"
   ]
  },
  {
   "cell_type": "code",
   "execution_count": 59,
   "id": "cc00f4f5",
   "metadata": {},
   "outputs": [
    {
     "name": "stdout",
     "output_type": "stream",
     "text": [
      "2\n",
      "9\n",
      "44\n"
     ]
    }
   ],
   "source": [
    "d = open ('abc.txt','r')\n",
    "line = 0\n",
    "word = 0\n",
    "character = 0\n",
    "for item in d:\n",
    "    line = line+1\n",
    "    word = word+len(item.split())\n",
    "    character = character+len(item)\n",
    "print(line)\n",
    "print(word)\n",
    "print(character)"
   ]
  },
  {
   "cell_type": "code",
   "execution_count": 74,
   "id": "5a6335da",
   "metadata": {},
   "outputs": [
    {
     "name": "stdout",
     "output_type": "stream",
     "text": [
      "Hi, My name is Prakash,\n",
      "i'm staying in Khar,\n",
      "Location - Mumbai\n"
     ]
    }
   ],
   "source": [
    "a = open ('abc.txt','r')\n",
    "print(a.read())\n",
    "b = 0\n",
    "z = a.read()\n",
    "c = z.split('\\n')\n",
    "\n",
    "\n",
    "for i in c:\n",
    "    if i:\n",
    "        b += 1\n",
    "        print(b)"
   ]
  },
  {
   "cell_type": "code",
   "execution_count": 70,
   "id": "164a1ead",
   "metadata": {},
   "outputs": [
    {
     "data": {
      "text/plain": [
       "\"Hi, My name is Prakash,\\ni'm staying in Khar,\\nLocation - Mumbai\""
      ]
     },
     "execution_count": 70,
     "metadata": {},
     "output_type": "execute_result"
    }
   ],
   "source": [
    "z"
   ]
  },
  {
   "cell_type": "code",
   "execution_count": null,
   "id": "be755c0d",
   "metadata": {},
   "outputs": [],
   "source": []
  }
 ],
 "metadata": {
  "kernelspec": {
   "display_name": "Python 3 (ipykernel)",
   "language": "python",
   "name": "python3"
  },
  "language_info": {
   "codemirror_mode": {
    "name": "ipython",
    "version": 3
   },
   "file_extension": ".py",
   "mimetype": "text/x-python",
   "name": "python",
   "nbconvert_exporter": "python",
   "pygments_lexer": "ipython3",
   "version": "3.9.13"
  }
 },
 "nbformat": 4,
 "nbformat_minor": 5
}
