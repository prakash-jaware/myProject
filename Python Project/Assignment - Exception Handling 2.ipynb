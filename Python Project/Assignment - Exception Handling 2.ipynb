{
 "cells": [
  {
   "cell_type": "markdown",
   "id": "966bf03d",
   "metadata": {},
   "source": [
    "#### ZeroDivisionError"
   ]
  },
  {
   "cell_type": "code",
   "execution_count": 12,
   "id": "301fb472",
   "metadata": {},
   "outputs": [
    {
     "name": "stdout",
     "output_type": "stream",
     "text": [
      "enter no 4\n",
      "enter no 0\n",
      "The value of b should be greater than 0 division by zero\n"
     ]
    }
   ],
   "source": [
    "try:\n",
    "    a = int(input(\"enter no \"))\n",
    "    b = int(input(\"enter no \"))\n",
    "    c = a / b\n",
    "except ZeroDivisionError as ze:\n",
    "    print(\"The value of b should be greater than 0\", ze)\n",
    "    "
   ]
  },
  {
   "cell_type": "markdown",
   "id": "ec8473e2",
   "metadata": {},
   "source": [
    "#### NameError"
   ]
  },
  {
   "cell_type": "code",
   "execution_count": 3,
   "id": "d9a4c53f",
   "metadata": {},
   "outputs": [
    {
     "name": "stdout",
     "output_type": "stream",
     "text": [
      "enter no 4\n",
      "enter no 5\n",
      "Incorrect Variable name 'd' is not defined\n"
     ]
    }
   ],
   "source": [
    "try:\n",
    "    a = int(input(\"enter no \"))\n",
    "    b = int(input(\"enter no \"))\n",
    "    c = a / b\n",
    "    print(d)\n",
    "except NameError as ne:\n",
    "    print(\"Incorrect Variable\", ne)"
   ]
  },
  {
   "cell_type": "markdown",
   "id": "ea41e876",
   "metadata": {},
   "source": [
    "#### ValueError"
   ]
  },
  {
   "cell_type": "code",
   "execution_count": 6,
   "id": "7a88f923",
   "metadata": {},
   "outputs": [
    {
     "name": "stdout",
     "output_type": "stream",
     "text": [
      "enter no r\n",
      "Please check that the value is in Number or Integer invalid literal for int() with base 10: 'r'\n"
     ]
    }
   ],
   "source": [
    "try:\n",
    "    a = int(input(\"enter no \"))\n",
    "\n",
    "except ValueError as ve:\n",
    "    print(\"Please check that the value is in Number or Integer\", ve)"
   ]
  },
  {
   "cell_type": "markdown",
   "id": "940dc808",
   "metadata": {},
   "source": [
    "#### TypeError"
   ]
  },
  {
   "cell_type": "code",
   "execution_count": 11,
   "id": "e373ac68",
   "metadata": {},
   "outputs": [
    {
     "name": "stdout",
     "output_type": "stream",
     "text": [
      "enter no 4\n",
      "enter no 5\n",
      "Append function should be pass only one arugrument list.append() takes exactly one argument (2 given)\n"
     ]
    }
   ],
   "source": [
    "try:\n",
    "    c = []\n",
    "    a = int(input(\"enter no \"))\n",
    "    b = int(input(\"enter no \"))\n",
    "    c.append(a,b)\n",
    "except TypeError as te:\n",
    "    print(\"In list.Append function should be pass only one arugrument\", te)"
   ]
  },
  {
   "cell_type": "code",
   "execution_count": null,
   "id": "d92360da",
   "metadata": {},
   "outputs": [],
   "source": []
  }
 ],
 "metadata": {
  "kernelspec": {
   "display_name": "Python 3 (ipykernel)",
   "language": "python",
   "name": "python3"
  },
  "language_info": {
   "codemirror_mode": {
    "name": "ipython",
    "version": 3
   },
   "file_extension": ".py",
   "mimetype": "text/x-python",
   "name": "python",
   "nbconvert_exporter": "python",
   "pygments_lexer": "ipython3",
   "version": "3.9.13"
  }
 },
 "nbformat": 4,
 "nbformat_minor": 5
}
