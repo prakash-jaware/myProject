{
 "cells": [
  {
   "cell_type": "code",
   "execution_count": 25,
   "id": "7c30df82",
   "metadata": {},
   "outputs": [],
   "source": [
    "with open ('abc.txt', 'w') as data:\n",
    "    data.write(\"Hi, My name is Prakash,\\ni'm staying in Khar,\\nLocation - Mumbai\")\n"
   ]
  },
  {
   "cell_type": "code",
   "execution_count": 26,
   "id": "1ea20b63",
   "metadata": {},
   "outputs": [
    {
     "name": "stdout",
     "output_type": "stream",
     "text": [
      "Hi, My name is Prakash,\n",
      "i'm staying in Khar,\n",
      "Location - Mumbai\n"
     ]
    }
   ],
   "source": [
    "with open('abc.txt','r') as d:\n",
    "    print(d.read())"
   ]
  },
  {
   "cell_type": "code",
   "execution_count": null,
   "id": "00336ab7",
   "metadata": {},
   "outputs": [],
   "source": []
  },
  {
   "cell_type": "code",
   "execution_count": null,
   "id": "267184a5",
   "metadata": {},
   "outputs": [],
   "source": []
  }
 ],
 "metadata": {
  "kernelspec": {
   "display_name": "Python 3 (ipykernel)",
   "language": "python",
   "name": "python3"
  },
  "language_info": {
   "codemirror_mode": {
    "name": "ipython",
    "version": 3
   },
   "file_extension": ".py",
   "mimetype": "text/x-python",
   "name": "python",
   "nbconvert_exporter": "python",
   "pygments_lexer": "ipython3",
   "version": "3.9.13"
  }
 },
 "nbformat": 4,
 "nbformat_minor": 5
}
