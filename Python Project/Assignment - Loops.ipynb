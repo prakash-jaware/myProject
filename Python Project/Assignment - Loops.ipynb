{
 "cells": [
  {
   "cell_type": "markdown",
   "id": "53cfd575",
   "metadata": {},
   "source": [
    "* Q1) Create a function that takes a list and finds the integer which appears\n",
    "an odd number of times.\n",
    "Examples\n",
    "find_odd([1, 1, 2, -2, 5, 2, 4, 4, -1, -2, 5]) ➞ -1\n",
    "find_odd([20, 1, 1, 2, 2, 3, 3, 5, 5, 4, 20, 4, 5]) ➞ 5\n",
    "find_odd([10]) ➞ 10\n",
    "Notes\n",
    "There will always only be one integer that appears an odd number of\n",
    "times."
   ]
  },
  {
   "cell_type": "code",
   "execution_count": 6,
   "id": "8ce6587d",
   "metadata": {},
   "outputs": [
    {
     "name": "stdout",
     "output_type": "stream",
     "text": [
      "-1\n"
     ]
    }
   ],
   "source": [
    "find_odd = [1, 1, 2, -2, 5, 2, 4, 4, -1, -2, 5]\n",
    "\n",
    "result = {}\n",
    "for item in range(0,len(find_odd)):\n",
    "      result[find_odd[item]]=find_odd.count(find_odd[item])\n",
    "\n",
    "for k,v in result.items():\n",
    "    if v%2!=0:\n",
    "        print(k)"
   ]
  },
  {
   "cell_type": "markdown",
   "id": "f3b4635d",
   "metadata": {},
   "source": [
    "* Q2) Create the function that takes a list of dictionaries and returns the sum\n",
    "of people's budgets.\n",
    "Examples\n",
    "get_budgets([\n",
    "{ \"name\": \"John\", \"age\": 21, \"budget\": 23000 },\n",
    "{ \"name\": \"Steve\", \"age\": 32, \"budget\": 40000 },\n",
    "{ \"name\": \"Martin\", \"age\": 16, \"budget\": 2700 }\n",
    "]) ➞ 65700\n",
    "get_budgets([\n",
    "{ \"name\": \"John\", \"age\": 21, \"budget\": 29000 },\n",
    "{ \"name\": \"Steve\", \"age\": 32, \"budget\": 32000 },\n",
    "{ \"name\": \"Martin\", \"age\": 16, \"budget\": 1600 }\n",
    "]) ➞ 62600"
   ]
  },
  {
   "cell_type": "code",
   "execution_count": 4,
   "id": "491d166a",
   "metadata": {},
   "outputs": [
    {
     "name": "stdout",
     "output_type": "stream",
     "text": [
      "65700\n"
     ]
    }
   ],
   "source": [
    "get_budgets ={\n",
    "40001 :{ \"name\": \"John\", \"age\": 21, \"budget\": 23000 },\n",
    "40002 :{ \"name\": \"Steve\", \"age\": 32, \"budget\": 40000 },\n",
    "40003 :{ \"name\": \"Martin\", \"age\": 16, \"budget\": 2700 }\n",
    "}\n",
    "\n",
    "budgets = 0\n",
    "for item in get_budgets:\n",
    "    total = (get_budgets[item].get(\"budget\"))\n",
    "    budgets = budgets + total\n",
    "print(budgets)"
   ]
  },
  {
   "cell_type": "markdown",
   "id": "6d1a90dc",
   "metadata": {},
   "source": [
    "* Q3) Create a function that takes three parameters where:\n",
    "•x is the start of the range (inclusive).\n",
    "•y is the end of the range (inclusive).\n",
    "•n is the divisor to be checked against.\n",
    "Return an ordered list with numbers in the range that are divisible by the\n",
    "third parameter n. Return an empty list if there are no numbers that are\n",
    "divisible by n.\n",
    "Examples\n",
    "list_operation(1, 10, 3) ➞ [3, 6, 9]\n",
    "list_operation(7, 9, 2) ➞ [8]\n",
    "list_operation(15, 20, 7) ➞ []"
   ]
  },
  {
   "cell_type": "code",
   "execution_count": 32,
   "id": "292895af",
   "metadata": {},
   "outputs": [
    {
     "name": "stdout",
     "output_type": "stream",
     "text": [
      "enter x paramater 1\n",
      "enter y paramater 4\n",
      "enter n paramater for divisible 2\n",
      "[2, 4]\n"
     ]
    }
   ],
   "source": [
    "x_para = int(input(\"enter x paramater \"))\n",
    "y_para = int(input(\"enter y paramater \"))\n",
    "n_para = int(input(\"enter n paramater for divisible \"))\n",
    "\n",
    "result =[]\n",
    "for item in range(x_para,y_para+1):\n",
    "    if item%n_para==0:\n",
    "        result.append(item)\n",
    "print(result)"
   ]
  },
  {
   "cell_type": "markdown",
   "id": "a8ff477b",
   "metadata": {},
   "source": [
    "* Q4) Write a function that takes a list of numbers and returns a list with two\n",
    "elements:\n",
    "1.The first element should be the sum of all even numbers in the list.\n",
    "2.The second element should be the sum of all odd numbers in the\n",
    "list.\n",
    "Example\n",
    "sum_odd_and_even([1, 2, 3, 4, 5, 6]) ➞ [12, 9]\n",
    "2 + 4 + 6 = 12 and 1 + 3 + 5 = 9\n",
    "sum_odd_and_even([-1, -2, -3, -4, -5, -6]) ➞ [-12, -9])\n",
    "sum_odd_and_even([0, 0]) ➞ [0, 0"
   ]
  },
  {
   "cell_type": "code",
   "execution_count": 8,
   "id": "006b44b1",
   "metadata": {},
   "outputs": [
    {
     "name": "stdout",
     "output_type": "stream",
     "text": [
      "[12, 9]\n"
     ]
    }
   ],
   "source": [
    "num = [1, 2, 3, 4, 5, 6]\n",
    "\n",
    "result = []\n",
    "\n",
    "even_num = 0\n",
    "odd_num = 0\n",
    "\n",
    "for item in num:\n",
    "    if item%2==0:\n",
    "        even_num = even_num + item\n",
    "    if item%2!=0:\n",
    "        odd_num = odd_num + item\n",
    "\n",
    "result.extend([even_num,odd_num])\n",
    "print(result)"
   ]
  },
  {
   "cell_type": "markdown",
   "id": "5390eb24",
   "metadata": {},
   "source": [
    "* Q5) In each input list, every number repeats at least once, except for two.\n",
    "Write a function that returns the two unique numbers.\n",
    "Examples\n",
    "return_unique([1, 9, 8, 8, 7, 6, 1, 6]) ➞ [9, 7]\n",
    "return_unique([5, 5, 2, 4, 4, 4, 9, 9, 9, 1]) ➞ [2, 1]\n",
    "return_unique([9, 5, 6, 8, 7, 7, 1, 1, 1, 1, 1, 9, 8]) ➞ [5, 6]"
   ]
  },
  {
   "cell_type": "code",
   "execution_count": 12,
   "id": "ad2ac207",
   "metadata": {},
   "outputs": [
    {
     "name": "stdout",
     "output_type": "stream",
     "text": [
      "2 1 "
     ]
    }
   ],
   "source": [
    "num = [5, 5, 2, 4, 4, 4, 9, 9, 9, 1]\n",
    "\n",
    "result = {}\n",
    "for item in range(0,len(num)):\n",
    "    result[num[item]]=num.count(num[item])\n",
    "\n",
    "for k,v in result.items():\n",
    "    if v==1:\n",
    "        print(k,end=' ')"
   ]
  },
  {
   "cell_type": "markdown",
   "id": "74a2a0ee",
   "metadata": {},
   "source": [
    "* Q6) Create a function which takes two strings (p1 and p2 — which\n",
    "represent player 1 and 2) as arguments and returns a string stating the\n",
    "winner in a game of Rock, Paper, Scissors.\n",
    "Each argument will contain a single string: \"Rock\", \"Paper\", or \"Scissors\".\n",
    "Return the winner according to the following rules:\n",
    "•Rock beats Scissors\n",
    "•Scissors beats Paper\n",
    "•Paper beats Rock\n",
    "If p1 wins, return the string \"The winner is p1\". If p2 wins, return the\n",
    "string \"The winner is p2\" and if p1 and p2 are the same, return \"It's a\n",
    "draw\" ."
   ]
  },
  {
   "cell_type": "code",
   "execution_count": 56,
   "id": "90a614be",
   "metadata": {},
   "outputs": [
    {
     "name": "stdout",
     "output_type": "stream",
     "text": [
      "enter Rock, Scissors & Paper paper\n",
      "enter Rock, Scissors & Paper scissors\n",
      "p2 win\n"
     ]
    }
   ],
   "source": [
    "p1 = str(input(\"enter Rock, Scissors & Paper \"))\n",
    "p2 = str(input(\"enter Rock, Scissors & Paper \"))\n",
    "p1 = p1.lower()\n",
    "p2 = p2.lower()\n",
    "\n",
    "if (p1==\"rock\" and p2==\"scissors\") or (p1==\"scissors\" and p2==\"paper\") or (p1==\"paper\" and p2==\"rock\"):\n",
    "    print(\"p1 win\")\n",
    "elif (p2==\"rock\" and p1==\"scissors\") or (p2==\"scissors\" and p1==\"paper\") or (p2==\"paper\" and p1==\"rock\"):\n",
    "    print(\"p2 win\")\n",
    "else:\n",
    "    print(\"It's a draw\")"
   ]
  },
  {
   "cell_type": "markdown",
   "id": "a2b3b97b",
   "metadata": {},
   "source": [
    "* Q7) Create a function that validates a password to conform to the following\n",
    "rules:\n",
    "•Length between 6 and 24 characters.\n",
    "•At least one uppercase letter (A-Z).\n",
    "•At least one lowercase letter (a-z).\n",
    "•At least one digit (0-9).\n",
    "•Maximum of 2 repeated characters.\n",
    "•\"aa\" is OK 👍\n",
    "•\"aaa\" is NOT OK 👎\n",
    "•Supported special characters:\n",
    "•! @ # $ % ^ & * ( ) + = _ - { } [ ] : ; \" ' ? < > , ."
   ]
  },
  {
   "cell_type": "code",
   "execution_count": 49,
   "id": "c4f2b1d4",
   "metadata": {},
   "outputs": [
    {
     "name": "stdout",
     "output_type": "stream",
     "text": [
      "Enter Password prkasd$32\n",
      "False\n"
     ]
    }
   ],
   "source": [
    "inp_password = str(input(\"Enter Password \"))\n",
    "\n",
    "len_flag = False\n",
    "upper_flag = False\n",
    "lower_flag = False\n",
    "num_flag = False\n",
    "not_repeated = True\n",
    "special_char = False\n",
    "\n",
    "spl_char = ['•',\"'\",'!','@','#' ,'$','%','^','&', '*','(',')','+', '=','_','-','{','}','[',']',':',';','\"', \"'\",'?','<','>',',','.']\n",
    "\n",
    "if len(inp_password)>=6 and len(inp_password)<=24:\n",
    "    len_flag = True\n",
    "    for i in range(0,len(inp_password)):\n",
    "        if inp_password[i].isupper():\n",
    "            upper_flag = True\n",
    "        elif inp_password[i].islower():\n",
    "            lower_flag = True\n",
    "        elif inp_password[i].isnumeric():\n",
    "            num_flag = True\n",
    "        elif inp_password[i].count(inp_password[i])>2:\n",
    "            not_repeated = False\n",
    "        elif inp_password[i] in spl_char:\n",
    "            special_char = True\n",
    "            \n",
    "if (len_flag == True and upper_flag == True and lower_flag == True\n",
    "and num_flag == True and not_repeated == True and special_char == True):\n",
    "    print(\"True\")\n",
    "else:\n",
    "    print(\"False\")\n",
    "    "
   ]
  },
  {
   "cell_type": "markdown",
   "id": "fec64582",
   "metadata": {},
   "source": [
    "* Q8) Create a function that takes number of units consumed by the\n",
    "customer and returns calculated Electricity Bill as per following conditions:\n",
    "•First 100 Units will be charged at $1/unit.\n",
    "•Next 100 Units will be charged at $2/unit.\n",
    "•Next 100 Units will be charged at $3/unit.\n",
    "•Next 200 Units will be charged at $4/unit.\n",
    "•Next Units will be charged at $5/unit.\n",
    "•10% tax to be added in final amount.\n",
    "•Extra $15 to be added for Meter Charge."
   ]
  },
  {
   "cell_type": "code",
   "execution_count": 5,
   "id": "86996a9a",
   "metadata": {},
   "outputs": [
    {
     "name": "stdout",
     "output_type": "stream",
     "text": [
      "Enter number of units 225\n",
      "[427.5]\n"
     ]
    }
   ],
   "source": [
    "total_bill = []\n",
    "\n",
    "unit = int(input(\"Enter number of units \"))\n",
    "t_tax = 10\n",
    "service_charges = 15\n",
    "\n",
    "total = 0\n",
    "tax = 0\n",
    "    \n",
    "if (unit<=100):\n",
    "    total = ((unit*1))\n",
    "elif (unit<200):\n",
    "    total = (((100*1)+(unit-100)*2))\n",
    "elif (unit<300):\n",
    "    total = (((100*1)+(100*2)+(unit-200)*3))\n",
    "elif (unit<=500):\n",
    "    total = (((100*1)+(100*2)+(100*3)+(unit-300)*4))\n",
    "elif (unit>500):\n",
    "    total = (((100*1)+(100*2)+(100*3)+(100*4)+(unit-400)*5))\n",
    "else:\n",
    "    print(\"invalid\")\n",
    "\n",
    "if t_tax:\n",
    "    tax = total/t_tax\n",
    "\n",
    "total_bill.extend([total+tax+service_charges])\n",
    "\n",
    "print(total_bill)"
   ]
  },
  {
   "cell_type": "markdown",
   "id": "7b8ad05a",
   "metadata": {},
   "source": [
    "* Q9) Create a function that takes a number as an argument and\n",
    "returns \"Fizz\", \"Buzz\" or \"FizzBuzz\".\n",
    "•If the number is a multiple of 3 the output should be \"Fizz\".\n",
    "•If the number given is a multiple of 5, the output should be \"Buzz\".\n",
    "•If the number given is a multiple of both 3 and 5, the output should\n",
    "be \"FizzBuzz\".\n",
    "•If the number is not a multiple of either 3 or 5, the number should be\n",
    "output on its own as shown in the examples below.\n",
    "•The output should always be a string even if it is not a multiple of 3\n",
    "or 5."
   ]
  },
  {
   "cell_type": "code",
   "execution_count": 120,
   "id": "d468ac41",
   "metadata": {},
   "outputs": [
    {
     "name": "stdout",
     "output_type": "stream",
     "text": [
      "Enter number 20\n",
      "Buzz\n"
     ]
    }
   ],
   "source": [
    "num = int(input(\"Enter number \"))\n",
    "\n",
    "if (num%3==0 and num%5==0):\n",
    "    print(\"FizzBuzz\")\n",
    "elif (num%3==0):\n",
    "          print(\"Fizz\")\n",
    "elif (num%5==0):\n",
    "          print(\"Buzz\")\n",
    "else:\n",
    "          print(4)"
   ]
  },
  {
   "cell_type": "markdown",
   "id": "92770554",
   "metadata": {},
   "source": [
    "* Q10) Create a function that takes an email address and returns the name in\n",
    "the address.\n",
    "•The \"name\" is the letters/alphabetical characters before the @ in the\n",
    "address.\n",
    "•The \"name\" will not always be an actual name.\n",
    "•Email addresses will end in something like @domain.com\n",
    "Examples\n",
    "get_name(\"yourname@example.com\") ➞ \"yourname\"\n",
    "get_name(\"john64@gmail.com\") ➞ \"john\"\n",
    "get_name(\"pamela78_Cole@hotmail.com\") ➞ \"pamelaCole\"\n",
    "get_name(\"Chickenlololol29@yahoo.com\") ➞ \"Chickenlololol\""
   ]
  },
  {
   "cell_type": "code",
   "execution_count": 16,
   "id": "dd664f83",
   "metadata": {},
   "outputs": [
    {
     "name": "stdout",
     "output_type": "stream",
     "text": [
      "Enter Email Id john64@gmail.com\n",
      " john\n"
     ]
    }
   ],
   "source": [
    "email = input(\"Enter Email Id \")\n",
    "\n",
    "split_mail = email.split(\"@\")[0]\n",
    "\n",
    "result = \" \"\n",
    "\n",
    "for item in split_mail:\n",
    "    if item.isalpha():\n",
    "        result=result+item\n",
    "print(result)"
   ]
  },
  {
   "cell_type": "markdown",
   "id": "efd29c54",
   "metadata": {},
   "source": [
    "* Q11) Mubashir is not good in python programming. By mistake, he\n",
    "swapped keys and data values in the dictionary.\n",
    "Given a dictionary, return a dictionary with the original values and the list\n",
    "of keys. See below example for a better understanding:\n",
    "Given Dictionary\n",
    "dict = {\n",
    "\"Mubashir\": \"Name\",\n",
    "\"31\": \"Age\",\n",
    "\"Male\": \"Sex\",\n",
    "\"Pilot\": \"Job\",\n",
    "\"Matt\": \"Name\",\n",
    "\"40\": \"Age\",\n",
    "\"Programmer\": \"Job\"\n",
    "}\n",
    "Modified Dictionary\n",
    "dict = {\n",
    "\"Name\": [\"Mubashir\", \"Matt\"],\n",
    "\"Age\": [\"31\", \"40\"],\n",
    "\"Sex\": [\"Male\"],\n",
    "\"Job\": [\"Pilot\", \"Programmer\"]\n",
    "}"
   ]
  },
  {
   "cell_type": "code",
   "execution_count": 13,
   "id": "318d4f3f",
   "metadata": {},
   "outputs": [
    {
     "name": "stdout",
     "output_type": "stream",
     "text": [
      "{'Name': ['Mubashir', 'Matt'], 'Age': ['31', '40'], 'Sex': ['Male'], 'Job': ['Pilot', 'Programmer']}\n"
     ]
    }
   ],
   "source": [
    "dict = {\n",
    "\"Mubashir\": \"Name\",\n",
    "\"31\": \"Age\",\n",
    "\"Male\": \"Sex\",\n",
    "\"Pilot\": \"Job\",\n",
    "\"Matt\": \"Name\",\n",
    "\"40\": \"Age\",\n",
    "\"Programmer\": \"Job\"\n",
    "}\n",
    "#print(dict)\n",
    "\n",
    "#dict.items()\n",
    "\n",
    "new_dict = {}\n",
    "for k, v in dict.items():\n",
    "   \n",
    "    if v in new_dict:\n",
    "        new_dict[v].append(k)\n",
    "    else:\n",
    "        new_dict[v]=[k]\n",
    "print(new_dict)"
   ]
  },
  {
   "cell_type": "markdown",
   "id": "2895117e",
   "metadata": {},
   "source": [
    "* Q12) Create a function that takes a number as an argument and\n",
    "returns True or False depending on whether the number is symmetrical or\n",
    "not. A number is symmetrical when it is the same as its reverse.\n",
    "Examples\n",
    "is_symmetrical(7227) ➞ True\n",
    "is_symmetrical(12567) ➞ False\n",
    "is_symmetrical(44444444) ➞ True\n",
    "is_symmetrical(9939) ➞ False\n",
    "is_symmetrical(1112111) ➞ True"
   ]
  },
  {
   "cell_type": "code",
   "execution_count": 15,
   "id": "7eaf643c",
   "metadata": {},
   "outputs": [
    {
     "name": "stdout",
     "output_type": "stream",
     "text": [
      "enter number 121\n",
      "True\n"
     ]
    }
   ],
   "source": [
    "inp_n = input(\"enter number \")\n",
    "\n",
    "if (inp_n == inp_n[::-1]):\n",
    "    print(True)\n",
    "else:\n",
    "    print(False)"
   ]
  }
 ],
 "metadata": {
  "kernelspec": {
   "display_name": "Python 3 (ipykernel)",
   "language": "python",
   "name": "python3"
  },
  "language_info": {
   "codemirror_mode": {
    "name": "ipython",
    "version": 3
   },
   "file_extension": ".py",
   "mimetype": "text/x-python",
   "name": "python",
   "nbconvert_exporter": "python",
   "pygments_lexer": "ipython3",
   "version": "3.9.13"
  }
 },
 "nbformat": 4,
 "nbformat_minor": 5
}
