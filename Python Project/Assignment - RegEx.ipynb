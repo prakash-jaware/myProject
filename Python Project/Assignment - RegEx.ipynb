{
 "cells": [
  {
   "cell_type": "code",
   "execution_count": 4,
   "id": "7eee71a0",
   "metadata": {},
   "outputs": [],
   "source": [
    "import re"
   ]
  },
  {
   "cell_type": "code",
   "execution_count": 1,
   "id": "ff538b71",
   "metadata": {},
   "outputs": [],
   "source": [
    "data = '''address = \"13/35 agedabout 60 years, residing at D.NO 59 Eswaran Koil St\"\n",
    "\n",
    "address = \"16th street R.Kesavan age 46yrs, residing at D.NO 59 Eswaran Koil St\"\n",
    "\n",
    "address = \"Room no 43 R.Kesavan aged about 37 years, residing at D.NO 59 Eswaran Koil St\"\n",
    "\n",
    "address = \"Door no 32 R.Kesavan 56yrs, residing at D.NO 59 Eswaran Koil St\"\n",
    "\n",
    "address = \"12-4-67 , R.Kesavan aged about 61, residing at D.NO 59 Eswaran Koil St\"\n",
    "\n",
    "address = \"R.Kesavan age63, residing at D.NO 59 Eswaran Koil St\"\n",
    "\n",
    "address = \"R.Kesavan aged 9, residing at D.NO 59 Eswaran Koil St\" '''"
   ]
  },
  {
   "cell_type": "code",
   "execution_count": 3,
   "id": "22a52906",
   "metadata": {},
   "outputs": [
    {
     "name": "stdout",
     "output_type": "stream",
     "text": [
      "address = \"13/35 agedabout 60 years, residing at D.NO 59 Eswaran Koil St\"\n",
      "\n",
      "address = \"16th street R.Kesavan age 46yrs, residing at D.NO 59 Eswaran Koil St\"\n",
      "\n",
      "address = \"Room no 43 R.Kesavan aged about 37 years, residing at D.NO 59 Eswaran Koil St\"\n",
      "\n",
      "address = \"Door no 32 R.Kesavan 56yrs, residing at D.NO 59 Eswaran Koil St\"\n",
      "\n",
      "address = \"12-4-67 , R.Kesavan aged about 61, residing at D.NO 59 Eswaran Koil St\"\n",
      "\n",
      "address = \"R.Kesavan age63, residing at D.NO 59 Eswaran Koil St\"\n",
      "\n",
      "address = \"R.Kesavan aged 9, residing at D.NO 59 Eswaran Koil St\" \n"
     ]
    }
   ],
   "source": [
    "print(data)"
   ]
  },
  {
   "cell_type": "code",
   "execution_count": 5,
   "id": "8b461807",
   "metadata": {},
   "outputs": [],
   "source": [
    "pattern = \"\\d+(?=[\\s]+year|yrs|,)\""
   ]
  },
  {
   "cell_type": "code",
   "execution_count": 6,
   "id": "261fdf4a",
   "metadata": {},
   "outputs": [],
   "source": [
    "result = re.findall(pattern,data)"
   ]
  },
  {
   "cell_type": "code",
   "execution_count": 7,
   "id": "3b6c5202",
   "metadata": {},
   "outputs": [
    {
     "data": {
      "text/plain": [
       "['60', '46', '37', '56', '61', '63', '9']"
      ]
     },
     "execution_count": 7,
     "metadata": {},
     "output_type": "execute_result"
    }
   ],
   "source": [
    "result"
   ]
  },
  {
   "cell_type": "code",
   "execution_count": null,
   "id": "61b2ffe7",
   "metadata": {},
   "outputs": [],
   "source": []
  }
 ],
 "metadata": {
  "kernelspec": {
   "display_name": "Python 3 (ipykernel)",
   "language": "python",
   "name": "python3"
  },
  "language_info": {
   "codemirror_mode": {
    "name": "ipython",
    "version": 3
   },
   "file_extension": ".py",
   "mimetype": "text/x-python",
   "name": "python",
   "nbconvert_exporter": "python",
   "pygments_lexer": "ipython3",
   "version": "3.9.13"
  }
 },
 "nbformat": 4,
 "nbformat_minor": 5
}
