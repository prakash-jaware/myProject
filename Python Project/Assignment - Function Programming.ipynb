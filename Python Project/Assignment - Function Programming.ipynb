{
 "cells": [
  {
   "cell_type": "markdown",
   "id": "2d8eb3d8",
   "metadata": {},
   "source": [
    "* Q1) The challenge is to fix all of the bugs in this incredibly messy code, which the code in the image\n",
    "might've actually looked like (probably not)! The code given will output the same middle two\n",
    "lines as in the image shown above.\n",
    "• First parameter is the user's score.\n",
    "• Second parameter is the required score.\n",
    "Examples\n",
    "grade_percentage(\"85%\", \"85%\") ➞ \"You PASSED the Exam\"\n",
    "grade_percentage(\"99%\", \"85%\") ➞ \"You PASSED the Exam\"\n",
    "grade_percentage(\"65%\", \"90%\") ➞ \"You FAILED the Exam\"\n",
    "Notes\n",
    "• Note that inputs will be given as a string percentage number.\n",
    "• Maintain all capitalization."
   ]
  },
  {
   "cell_type": "code",
   "execution_count": 30,
   "id": "32c84e1e",
   "metadata": {},
   "outputs": [],
   "source": [
    "def grade_percentage(para1):\n",
    "    para2 = 85\n",
    "    result = para1>=para2\n",
    "    if para1>=para2:\n",
    "        print(\"You PASSED the Exam\")\n",
    "    else:\n",
    "        print(\"You FAILED the Exam\")  "
   ]
  },
  {
   "cell_type": "code",
   "execution_count": 31,
   "id": "1dbd807f",
   "metadata": {},
   "outputs": [
    {
     "name": "stdout",
     "output_type": "stream",
     "text": [
      "You PASSED the Exam\n"
     ]
    }
   ],
   "source": [
    "grade_percentage(86)"
   ]
  },
  {
   "cell_type": "markdown",
   "id": "2f30a0fe",
   "metadata": {},
   "source": [
    "* Q2) Create a function that returns the mean of all digits.\n",
    "Examples\n",
    "mean(42) ➞ 3\n",
    "mean(12345) ➞ 3\n",
    "mean(666) ➞ 6\n",
    "Notes\n",
    "•The mean of all digits is the sum of digits / how many digits there are (e.g. mean of digits\n",
    "in 512 is (5+1+2)/3(number of digits) = 8/3=2).\n",
    "•The mean will always be an integer."
   ]
  },
  {
   "cell_type": "code",
   "execution_count": 32,
   "id": "6ec6ea49",
   "metadata": {},
   "outputs": [],
   "source": [
    "def mean_digit():\n",
    "    num = input(\"enter digit \")\n",
    "    num1 = str(num)\n",
    "    digit = 0\n",
    "    for item in num1:\n",
    "        digit += int(item)//len(num1)\n",
    "#        print(digit)\n",
    "    print(digit)"
   ]
  },
  {
   "cell_type": "code",
   "execution_count": 33,
   "id": "ada5f0b7",
   "metadata": {},
   "outputs": [
    {
     "name": "stdout",
     "output_type": "stream",
     "text": [
      "enter digit 42\n",
      "3\n"
     ]
    }
   ],
   "source": [
    "mean_digit()"
   ]
  },
  {
   "cell_type": "markdown",
   "id": "07ac1536",
   "metadata": {},
   "source": [
    "* Q3) Write a program that returns a list of all the numbers from 1 to an integer argument. But for\n",
    "multiples of three use “Fizz” instead of the number and for the multiples of five use “Buzz”. For\n",
    "numbers which are multiples of both three and five use “FizzBuzz”.\n",
    "Example\n",
    "fizz_buzz(10) ➞ [1, 2, \"Fizz\", 4, \"Buzz\", \"Fizz\", 7, 8, \"Fizz\", \"Buzz\"]\n",
    "fizz_buzz(15) ➞ [1, 2, \"Fizz\", 4, \"Buzz\", \"Fizz\", 7, 8, \"Fizz\", \"Buzz\",\n",
    "11, \"Fizz\", 13, 14, \"FizzBuzz\"]\n",
    "Notes\n",
    "Make sure to return a list"
   ]
  },
  {
   "cell_type": "code",
   "execution_count": 35,
   "id": "6c47f8c8",
   "metadata": {},
   "outputs": [],
   "source": [
    "def fizz_buzz(num):\n",
    "    lst = []\n",
    "    for num in range(1,num+1):\n",
    "        if num % 3 == 0 and num % 5 == 0:\n",
    "            lst.append(\"FizzBuzz\")\n",
    "        elif num % 3 == 0:\n",
    "            lst.append(\"Fizz\")\n",
    "        elif num % 5 == 0:\n",
    "            lst.append(\"Buzz\")\n",
    "        else:\n",
    "            lst.append(num)\n",
    "    return lst"
   ]
  },
  {
   "cell_type": "code",
   "execution_count": 36,
   "id": "84432b27",
   "metadata": {},
   "outputs": [
    {
     "data": {
      "text/plain": [
       "[1,\n",
       " 2,\n",
       " 'Fizz',\n",
       " 4,\n",
       " 'Buzz',\n",
       " 'Fizz',\n",
       " 7,\n",
       " 8,\n",
       " 'Fizz',\n",
       " 'Buzz',\n",
       " 11,\n",
       " 'Fizz',\n",
       " 13,\n",
       " 14,\n",
       " 'FizzBuzz']"
      ]
     },
     "execution_count": 36,
     "metadata": {},
     "output_type": "execute_result"
    }
   ],
   "source": [
    "fizz_buzz(15)"
   ]
  },
  {
   "cell_type": "markdown",
   "id": "d6057967",
   "metadata": {},
   "source": [
    "* Q5) Create a function that takes a list and a string as arguments and returns the index of the\n",
    "string.\n",
    "Examples\n",
    "find_index([\"hi\", \"edabit\", \"fgh\", \"abc\"], \"fgh\") ➞ 2\n",
    "find_index([\"Red\", \"blue\", \"Blue\", \"Green\"], \"blue\") ➞ 1\n",
    "find_index([\"a\", \"g\", \"y\", \"d\"], \"d\") ➞ 3\n",
    "find_index([\"Pineapple\", \"Orange\", \"Grape\", \"Apple\"], \"Pineapple\") ➞ 0\n",
    "Notes\n",
    "•Don't forget to return the result."
   ]
  },
  {
   "cell_type": "code",
   "execution_count": 37,
   "id": "531d6d5d",
   "metadata": {},
   "outputs": [],
   "source": [
    "def find_index():\n",
    "    result = []\n",
    "    res = lst.index(input(\"enter string \"))\n",
    "    result.append(res)\n",
    "    return result\n",
    "\n",
    "\n",
    "lst = [\"a\",\"g\",\"y\",\"d\"]"
   ]
  },
  {
   "cell_type": "code",
   "execution_count": 38,
   "id": "2374e6de",
   "metadata": {},
   "outputs": [
    {
     "name": "stdout",
     "output_type": "stream",
     "text": [
      "enter string y\n"
     ]
    },
    {
     "data": {
      "text/plain": [
       "[2]"
      ]
     },
     "execution_count": 38,
     "metadata": {},
     "output_type": "execute_result"
    }
   ],
   "source": [
    "find_index()"
   ]
  },
  {
   "cell_type": "markdown",
   "id": "96a7c8de",
   "metadata": {},
   "source": [
    "* Q6) Create a function that goes through the array, incrementing (+1) for each odd-valued\n",
    "number and decrementing (-1) for each even-valued number.\n",
    "Examples\n",
    "transform([1, 2, 3, 4, 5]) ➞ [2, 1, 4, 3, 6]\n",
    "transform([3, 3, 4, 3]) ➞ [4, 4, 3, 4]\n",
    "transform([2, 2, 0, 8, 10]) ➞ [1, 1, -1, 7, 9]"
   ]
  },
  {
   "cell_type": "code",
   "execution_count": 44,
   "id": "6dcf13b5",
   "metadata": {},
   "outputs": [],
   "source": [
    "def transform():\n",
    "    even_odd_no=[2, 1, 4, 3, 6]\n",
    "    res = []\n",
    "    for item in even_odd_no:\n",
    "        if item%2==0:\n",
    "            b = (item-1)\n",
    "            res.append(b)\n",
    "        elif item%2==1:\n",
    "            b = (item+1)\n",
    "            res.append(b)\n",
    "    return res"
   ]
  },
  {
   "cell_type": "code",
   "execution_count": 45,
   "id": "aa2e2abc",
   "metadata": {},
   "outputs": [
    {
     "data": {
      "text/plain": [
       "[1, 2, 3, 4, 5]"
      ]
     },
     "execution_count": 45,
     "metadata": {},
     "output_type": "execute_result"
    }
   ],
   "source": [
    "transform()"
   ]
  },
  {
   "cell_type": "markdown",
   "id": "3c24399f",
   "metadata": {},
   "source": [
    "* Q7) An isogram is a word that has no duplicate letters. Create a function that takes a string and\n",
    "returns either True or False depending on whether or not it's an \"isogram\".\n",
    "Examples\n",
    "is_isogram(\"Algorism\") ➞ True\n",
    "is_isogram(\"PasSword\") ➞ False\n",
    " Not case sensitive.\n",
    "is_isogram(\"Consecutive\") ➞ False\n",
    "Notes\n",
    "•Ignore letter case (should not be case sensitive).\n",
    "•All test cases contain valid one word strings."
   ]
  },
  {
   "cell_type": "code",
   "execution_count": 72,
   "id": "075dfbb7",
   "metadata": {},
   "outputs": [],
   "source": [
    "def is_isogram():\n",
    "    string = input(\"enter string \")\n",
    "    string = string.upper()\n",
    "    for i in string:\n",
    "        if string.count(i) >1:\n",
    "            return False\n",
    "        else:\n",
    "            return True     "
   ]
  },
  {
   "cell_type": "code",
   "execution_count": 73,
   "id": "6a591528",
   "metadata": {},
   "outputs": [
    {
     "name": "stdout",
     "output_type": "stream",
     "text": [
      "enter string Consecutive\n"
     ]
    },
    {
     "data": {
      "text/plain": [
       "False"
      ]
     },
     "execution_count": 73,
     "metadata": {},
     "output_type": "execute_result"
    }
   ],
   "source": [
    "is_isogram()"
   ]
  },
  {
   "cell_type": "markdown",
   "id": "d4aea950",
   "metadata": {},
   "source": [
    "* Q8) Create a function that determines whether a number is Oddish or Evenish. A number\n",
    "is Oddish if the sum of all of its digits is odd, and a number is Evenish if the sum of all of its digits\n",
    "is even. If a number is Oddish, return \"Oddish\". Otherwise, return \"Evenish\".\n",
    "For example, oddish_or_evenish(121) should return \"Evenish\", since 1 + 2 + 1 =\n",
    "4. oddish_or_evenish(41) should return \"Oddish\", since 4 + 1 = 5.\n",
    "Examples\n",
    "oddish_or_evenish(43) ➞ \"Oddish\"\n",
    " 4 + 3 = 7\n",
    " 7 % 2 = 1\n",
    "oddish_or_evenish(373) ➞ \"Oddish\"\n",
    " 3 + 7 + 3 = 13\n",
    " 13 % 2 = 1\n",
    "oddish_or_evenish(4433) ➞ \"Evenish\"\n",
    " 4 + 4 + 3 + 3 = 14\n",
    " 14 % 2 = 0"
   ]
  },
  {
   "cell_type": "code",
   "execution_count": 76,
   "id": "9474e845",
   "metadata": {},
   "outputs": [],
   "source": [
    "def oddish_or_evenish():\n",
    "    inp_no = input(\"enter no \")\n",
    "    num = list()\n",
    "    for item in inp_no:\n",
    "        val = int(item)\n",
    "        num.append(val)\n",
    "        odd_even = sum(num)\n",
    "    if odd_even%2==0:\n",
    "        print(\"Evenish\")\n",
    "    else:\n",
    "        print(\"Oddish\")"
   ]
  },
  {
   "cell_type": "code",
   "execution_count": 78,
   "id": "ab601b6e",
   "metadata": {},
   "outputs": [
    {
     "name": "stdout",
     "output_type": "stream",
     "text": [
      "enter no 373\n",
      "Oddish\n"
     ]
    }
   ],
   "source": [
    "oddish_or_evenish()"
   ]
  },
  {
   "cell_type": "markdown",
   "id": "9aa06903",
   "metadata": {},
   "source": [
    "* Q9) Write a Python program to combine two dictionary adding values for common keys\n",
    "example: d1 = {'a': 100, 'b': 200, 'c':300}\n",
    "d2 = {'a': 300, 'b': 200, 'd':400}\n",
    "Sample output: ({'a': 400, 'b': 400, 'd': 400, 'c': 300})"
   ]
  },
  {
   "cell_type": "code",
   "execution_count": 2,
   "id": "ec36990a",
   "metadata": {},
   "outputs": [
    {
     "ename": "SyntaxError",
     "evalue": "invalid syntax (2298529699.py, line 2)",
     "output_type": "error",
     "traceback": [
      "\u001b[1;36m  File \u001b[1;32m\"C:\\Users\\Prakash Jaware\\AppData\\Local\\Temp\\ipykernel_10492\\2298529699.py\"\u001b[1;36m, line \u001b[1;32m2\u001b[0m\n\u001b[1;33m    for k,v d1.items() | d2.items():\u001b[0m\n\u001b[1;37m            ^\u001b[0m\n\u001b[1;31mSyntaxError\u001b[0m\u001b[1;31m:\u001b[0m invalid syntax\n"
     ]
    }
   ],
   "source": []
  },
  {
   "cell_type": "code",
   "execution_count": 180,
   "id": "d3241f2b",
   "metadata": {},
   "outputs": [],
   "source": [
    "d1 = {'a': 100, 'b': 200, 'c':300}\n",
    "d2 = {'a': 300, 'b': 200, 'd':400}\n",
    "\n",
    "def common_keys():\n",
    "    d3 = {}\n",
    "    for k in d1.keys() | d2.keys():\n",
    "        d3[k] = d1.get(0) + d2.get(k, 0)\n",
    "    return d3"
   ]
  },
  {
   "cell_type": "code",
   "execution_count": 3,
   "id": "b90f8291",
   "metadata": {},
   "outputs": [
    {
     "ename": "SyntaxError",
     "evalue": "invalid syntax (2298529699.py, line 2)",
     "output_type": "error",
     "traceback": [
      "\u001b[1;36m  File \u001b[1;32m\"C:\\Users\\Prakash Jaware\\AppData\\Local\\Temp\\ipykernel_10492\\2298529699.py\"\u001b[1;36m, line \u001b[1;32m2\u001b[0m\n\u001b[1;33m    for k,v d1.items() | d2.items():\u001b[0m\n\u001b[1;37m            ^\u001b[0m\n\u001b[1;31mSyntaxError\u001b[0m\u001b[1;31m:\u001b[0m invalid syntax\n"
     ]
    }
   ],
   "source": [
    "d3 ={}\n",
    "for key d1:z.items() | d2.items():\n",
    "    d3[k] = d1.[k]+d2.[k]\n",
    "    print(d3)\n",
    "    "
   ]
  },
  {
   "cell_type": "code",
   "execution_count": 181,
   "id": "b3f76692",
   "metadata": {},
   "outputs": [
    {
     "data": {
      "text/plain": [
       "{'b': 400, 'c': 300, 'd': 400, 'a': 400}"
      ]
     },
     "execution_count": 181,
     "metadata": {},
     "output_type": "execute_result"
    }
   ],
   "source": [
    "common_keys()"
   ]
  },
  {
   "cell_type": "markdown",
   "id": "47a442b9",
   "metadata": {},
   "source": [
    "* Q10) Write a Python program to create a dictionary from a string\n",
    "eg: ‘pineapple’\n",
    "sample output: {‘p’:3,’i’:1,’n’:1,’e’:2,’a’:2,’l’:1}"
   ]
  },
  {
   "cell_type": "code",
   "execution_count": 96,
   "id": "33cb020d",
   "metadata": {},
   "outputs": [],
   "source": [
    "def data():\n",
    "    string = input(\"Enter String \")\n",
    "    result = {}\n",
    "    for item in range(0,len(string)):\n",
    "        result[string[item]]=string.count(string[item])\n",
    "    print(result)"
   ]
  },
  {
   "cell_type": "code",
   "execution_count": 97,
   "id": "b499c7aa",
   "metadata": {},
   "outputs": [
    {
     "name": "stdout",
     "output_type": "stream",
     "text": [
      "Enter String pineapple\n",
      "{'p': 3, 'i': 1, 'n': 1, 'e': 2, 'a': 1, 'l': 1}\n"
     ]
    }
   ],
   "source": [
    "data()"
   ]
  },
  {
   "cell_type": "markdown",
   "id": "9192c7ed",
   "metadata": {},
   "source": [
    "* Q11) Create a function that takes a list and finds the integer which appears\n",
    "an odd number of times.\n",
    "Examples\n",
    "find_odd([1, 1, 2, -2, 5, 2, 4, 4, -1, -2, 5]) ➞ -1\n",
    "find_odd([20, 1, 1, 2, 2, 3, 3, 5, 5, 4, 20, 4, 5]) ➞ 5\n",
    "find_odd([10]) ➞ 10\n",
    "Notes\n",
    "There will always only be one integer that appears an odd number of\n",
    "times."
   ]
  },
  {
   "cell_type": "code",
   "execution_count": 98,
   "id": "371916a0",
   "metadata": {},
   "outputs": [],
   "source": [
    "def find_odd():\n",
    "    num = [20, 1, 1, 2, 2, 3, 3, 5, 5, 4, 20, 4, 5]\n",
    "    result = {}\n",
    "    for item in range(0,len(num)):\n",
    "        result[num[item]]=num.count(num[item])\n",
    "    for k,v in result.items():\n",
    "        if v%2!=0:\n",
    "            print(k)"
   ]
  },
  {
   "cell_type": "code",
   "execution_count": 99,
   "id": "c415851e",
   "metadata": {},
   "outputs": [
    {
     "name": "stdout",
     "output_type": "stream",
     "text": [
      "5\n"
     ]
    }
   ],
   "source": [
    "find_odd()"
   ]
  },
  {
   "cell_type": "markdown",
   "id": "3ef4858b",
   "metadata": {},
   "source": [
    "* Q12) Create the function that takes a list of dictionaries and returns the sum\n",
    "of people's budgets.\n",
    "Examples\n",
    "get_budgets([\n",
    "{ \"name\": \"John\", \"age\": 21, \"budget\": 23000 },\n",
    "{ \"name\": \"Steve\", \"age\": 32, \"budget\": 40000 },\n",
    "{ \"name\": \"Martin\", \"age\": 16, \"budget\": 2700 }\n",
    "]) ➞ 65700\n",
    "get_budgets([\n",
    "{ \"name\": \"John\", \"age\": 21, \"budget\": 29000 },\n",
    "{ \"name\": \"Steve\", \"age\": 32, \"budget\": 32000 },\n",
    "{ \"name\": \"Martin\", \"age\": 16, \"budget\": 1600 }\n",
    "]) ➞ 62600"
   ]
  },
  {
   "cell_type": "code",
   "execution_count": 100,
   "id": "c7a17b82",
   "metadata": {},
   "outputs": [],
   "source": [
    "get_budgets ={\n",
    "40001 :{ \"name\": \"John\", \"age\": 21, \"budget\": 23000 },\n",
    "40002 :{ \"name\": \"Steve\", \"age\": 32, \"budget\": 40000 },\n",
    "40003 :{ \"name\": \"Martin\", \"age\": 16, \"budget\": 2700 }\n",
    "}\n",
    "\n",
    "def get():\n",
    "    budgets = 0\n",
    "    for item in get_budgets:\n",
    "        total = (get_budgets[item].get(\"budget\"))\n",
    "        budgets = budgets + total\n",
    "    return budgets"
   ]
  },
  {
   "cell_type": "code",
   "execution_count": 101,
   "id": "a9ee5c9b",
   "metadata": {},
   "outputs": [
    {
     "data": {
      "text/plain": [
       "65700"
      ]
     },
     "execution_count": 101,
     "metadata": {},
     "output_type": "execute_result"
    }
   ],
   "source": [
    "get()"
   ]
  },
  {
   "cell_type": "markdown",
   "id": "2ea858ac",
   "metadata": {},
   "source": [
    "* Q13) In each input list, every number repeats at least once, except for two.\n",
    "Write a function that returns the two unique numbers.\n",
    "Examples\n",
    "return_unique([1, 9, 8, 8, 7, 6, 1, 6]) ➞ [9, 7]\n",
    "return_unique([5, 5, 2, 4, 4, 4, 9, 9, 9, 1]) ➞ [2, 1]\n",
    "return_unique([9, 5, 6, 8, 7, 7, 1, 1, 1, 1, 1, 9, 8]) ➞ [5, 6]"
   ]
  },
  {
   "cell_type": "code",
   "execution_count": 102,
   "id": "beb15c7d",
   "metadata": {},
   "outputs": [],
   "source": [
    "def unique_no():\n",
    "    num = [5, 5, 2, 4, 4, 4, 9, 9, 9, 1]\n",
    "    result = {}\n",
    "    for item in range(0,len(num)):\n",
    "        result[num[item]]=num.count(num[item])\n",
    "    for k,v in result.items():\n",
    "        if v==1:\n",
    "            print(k,end=' ')"
   ]
  },
  {
   "cell_type": "code",
   "execution_count": 103,
   "id": "14666361",
   "metadata": {},
   "outputs": [
    {
     "name": "stdout",
     "output_type": "stream",
     "text": [
      "2 1 "
     ]
    }
   ],
   "source": [
    "unique_no()"
   ]
  },
  {
   "cell_type": "markdown",
   "id": "ba0fc52b",
   "metadata": {},
   "source": [
    "* Q15) Given a dictionary containing the names and ages of a group of people, return the name of\n",
    "the oldest person.\n",
    "Examples\n",
    "oldest({\n",
    "\"Emma\": 71,\n",
    "\"Jack\": 45,\n",
    "\"Amy\": 15,\n",
    "\"Ben\": 29\n",
    "}) ➞ \"Emma\"\n",
    "oldest({\n",
    "\"Max\": 9,\n",
    "\"Josh\": 13,\n",
    "\"Sam\": 48,\n",
    "\"Anne\": 33\n",
    "}) ➞ \"Sam\""
   ]
  },
  {
   "cell_type": "code",
   "execution_count": 9,
   "id": "8f421aaf",
   "metadata": {},
   "outputs": [],
   "source": [
    "oldest = ({\n",
    "\"Max\": 9, \"Josh\": 13, \"Sam\": 48, \"Anne\": 33\n",
    "})\n",
    "\n",
    "def oldest_person():\n",
    "    result = {}\n",
    "    for k,v in oldest.items():\n",
    "        result =max(oldest,key=oldest.get)\n",
    "    return result"
   ]
  },
  {
   "cell_type": "code",
   "execution_count": 10,
   "id": "304e5578",
   "metadata": {},
   "outputs": [
    {
     "data": {
      "text/plain": [
       "'Sam'"
      ]
     },
     "execution_count": 10,
     "metadata": {},
     "output_type": "execute_result"
    }
   ],
   "source": [
    "oldest_person()"
   ]
  },
  {
   "cell_type": "code",
   "execution_count": null,
   "id": "9d1d7e98",
   "metadata": {},
   "outputs": [],
   "source": []
  }
 ],
 "metadata": {
  "kernelspec": {
   "display_name": "Python 3 (ipykernel)",
   "language": "python",
   "name": "python3"
  },
  "language_info": {
   "codemirror_mode": {
    "name": "ipython",
    "version": 3
   },
   "file_extension": ".py",
   "mimetype": "text/x-python",
   "name": "python",
   "nbconvert_exporter": "python",
   "pygments_lexer": "ipython3",
   "version": "3.9.13"
  }
 },
 "nbformat": 4,
 "nbformat_minor": 5
}
