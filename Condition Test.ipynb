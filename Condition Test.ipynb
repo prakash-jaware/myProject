{
 "cells": [
  {
   "cell_type": "code",
   "execution_count": 3,
   "id": "251c7b71",
   "metadata": {},
   "outputs": [
    {
     "name": "stdout",
     "output_type": "stream",
     "text": [
      "enter no from user 1\n",
      "False\n"
     ]
    }
   ],
   "source": [
    "# 1) Write a Program to take input number from the user, it should print \n",
    "#    True if it is less than or equals to 0, otherwise it should print False.\n",
    "\n",
    "inp_no = int(input(\"enter no from user \"))\n",
    "\n",
    "if (inp_no<=0):\n",
    "\tprint(True)\n",
    "else:\n",
    "\tprint(False)"
   ]
  },
  {
   "cell_type": "code",
   "execution_count": 6,
   "id": "4e431d02",
   "metadata": {
    "scrolled": true
   },
   "outputs": [
    {
     "name": "stdout",
     "output_type": "stream",
     "text": [
      "enter no from user 200\n",
      "True\n"
     ]
    }
   ],
   "source": [
    "# 2) Write a Program to take input number from user, it should print True if the \n",
    "#    number is divisible by 100 otherwise it should print False.\n",
    "\n",
    "inp_no = int(input(\"enter no from user \"))\n",
    "\n",
    "if (inp_no%100==0):\n",
    "\tprint(True)\n",
    "else:\n",
    "\tprint(False)\n"
   ]
  },
  {
   "cell_type": "code",
   "execution_count": 7,
   "id": "3bcffb49",
   "metadata": {},
   "outputs": [
    {
     "name": "stdout",
     "output_type": "stream",
     "text": [
      "enter people age 18\n",
      "on break 'Y' or not 'N' Y\n",
      "dont serve\n"
     ]
    }
   ],
   "source": [
    "# 3) A bartender is writing a simple program to determine whether he should serve drinks to\n",
    "#    someone. He only serves drinks to people 18 and older and when he's not on break.\n",
    "\n",
    "inp_age = int(input(\"enter people age \"))\n",
    "bartender = input(\"on break 'Y' or not 'N' \")\n",
    "\n",
    "if (inp_age>=18) and (bartender=='N'):\n",
    "\tprint(\"serve drink\")\n",
    "else:\n",
    "\tprint(\"dont serve\")"
   ]
  },
  {
   "cell_type": "code",
   "execution_count": 9,
   "id": "80d20c5c",
   "metadata": {},
   "outputs": [
    {
     "name": "stdout",
     "output_type": "stream",
     "text": [
      "enter person age for watching 14\n",
      "have parental supervision 'Y' or not 'N' Y\n",
      "under age\n"
     ]
    }
   ],
   "source": [
    "# 4) Write a Program to check whether a person can watch MA15+ rated movie. On the basis of\n",
    "#    the following condition.\n",
    "#    1) The person is at least 15 years old.\n",
    "#    2) They have parental supervision.\n",
    "#    You need to take 2 input from the user, asking for age and whether parent is accompaning or no\n",
    "#    Your output should show “Can watch movie” or “Cannot watch the movie”\n",
    "\n",
    "\n",
    "person_age = int(input(\"enter person age for watching \"))\n",
    "inp_super = input(\"have parental supervision 'Y' or not 'N' \")\n",
    "\n",
    "if (person_age>=15 and inp_super=='Y'):\n",
    "\tprint(\"can watch movie\")\n",
    "elif (person_age>=15 and inp_super=='N'):\n",
    "\tprint(\"cannot watch the movie\")\n",
    "else:\n",
    "\tprint(\"under age\")"
   ]
  },
  {
   "cell_type": "code",
   "execution_count": 24,
   "id": "39eeecb2",
   "metadata": {},
   "outputs": [
    {
     "ename": "TypeError",
     "evalue": "'int' object is not callable",
     "output_type": "error",
     "traceback": [
      "\u001b[1;31m---------------------------------------------------------------------------\u001b[0m",
      "\u001b[1;31mTypeError\u001b[0m                                 Traceback (most recent call last)",
      "Input \u001b[1;32mIn [24]\u001b[0m, in \u001b[0;36m<cell line: 10>\u001b[1;34m()\u001b[0m\n\u001b[0;32m      1\u001b[0m \u001b[38;5;66;03m# 5) Write a Program that takes 2 input from the user as number and Print the output according to\u001b[39;00m\n\u001b[0;32m      2\u001b[0m \u001b[38;5;66;03m#    the following condition.:\u001b[39;00m\n\u001b[0;32m      3\u001b[0m \u001b[38;5;66;03m#    You need to print True if both the numbers are\u001b[39;00m\n\u001b[1;32m   (...)\u001b[0m\n\u001b[0;32m      6\u001b[0m \u001b[38;5;66;03m#    Exactly 0\u001b[39;00m\n\u001b[0;32m      7\u001b[0m \u001b[38;5;66;03m#    Otherwise print False\u001b[39;00m\n\u001b[1;32m---> 10\u001b[0m inp_no \u001b[38;5;241m=\u001b[39m \u001b[38;5;28mint\u001b[39m(\u001b[38;5;28;43minput\u001b[39;49m\u001b[43m(\u001b[49m\u001b[38;5;124;43m\"\u001b[39;49m\u001b[38;5;124;43menter no from user \u001b[39;49m\u001b[38;5;124;43m\"\u001b[39;49m\u001b[43m)\u001b[49m)\n\u001b[0;32m     11\u001b[0m b \u001b[38;5;241m=\u001b[39m \u001b[38;5;28mint\u001b[39m(\u001b[38;5;28minput\u001b[39m(\u001b[38;5;124m\"\u001b[39m\u001b[38;5;124menter no\u001b[39m\u001b[38;5;124m\"\u001b[39m))\n\u001b[0;32m     13\u001b[0m \u001b[38;5;28;01mif\u001b[39;00m (a\u001b[38;5;241m<\u001b[39m\u001b[38;5;241m0\u001b[39m \u001b[38;5;129;01mand\u001b[39;00m b\u001b[38;5;241m<\u001b[39m\u001b[38;5;241m0\u001b[39m):\n",
      "\u001b[1;31mTypeError\u001b[0m: 'int' object is not callable"
     ]
    }
   ],
   "source": [
    "# 5) Write a Program that takes 2 input from the user as number and Print the output according to\n",
    "#    the following condition.:\n",
    "#    You need to print True if both the numbers are\n",
    "#    Smaller than 0, OR ...\n",
    "#    Greater than 0, OR ...\n",
    "#    Exactly 0\n",
    "#    Otherwise print False\n",
    "\n",
    "\n",
    "a = int(input(\"enter no\"))\n",
    "b = int(input(\"enter no\"))\n",
    "\n",
    "if (a<0 and b<0):\n",
    "\tprint(True)\n",
    "elif (a>0 and b>0):\n",
    "\tprint(True)\n",
    "elif (a==0 and b==0):\n",
    "\tprint(True)\n",
    "else:\n",
    "\tprint(False)"
   ]
  },
  {
   "cell_type": "code",
   "execution_count": 1,
   "id": "a3ed6cdc",
   "metadata": {},
   "outputs": [
    {
     "name": "stdout",
     "output_type": "stream",
     "text": [
      "woc\n"
     ]
    }
   ],
   "source": [
    "# Q6) Take a input string from the User and your program should print the string with its first\n",
    "#     and last characters swapped, except under 2 conditions:\n",
    "#     1) If the length of the string is less than two, print \"Incompatible.\" .\n",
    "#     2) If the first and last characters are the same, print \"Two's a pair.\" .\n",
    "\n",
    "\n",
    "string = \"cow\"\n",
    "\n",
    "a = list(string)\n",
    "temp=a[0]\n",
    "a[0]=a[-1]\n",
    "a[-1]=temp\n",
    "\n",
    "\n",
    "if (len(string)<=2):\n",
    "  print(\"Incompatible\")\n",
    "elif (string[0]==string[-1]):\n",
    "  print(\"Two's a pair\")\n",
    "\n",
    "print(\"\".join(a))"
   ]
  },
  {
   "cell_type": "code",
   "execution_count": 2,
   "id": "24d9e234",
   "metadata": {},
   "outputs": [
    {
     "ename": "KeyboardInterrupt",
     "evalue": "Interrupted by user",
     "output_type": "error",
     "traceback": [
      "\u001b[1;31m---------------------------------------------------------------------------\u001b[0m",
      "\u001b[1;31mKeyboardInterrupt\u001b[0m                         Traceback (most recent call last)",
      "Input \u001b[1;32mIn [2]\u001b[0m, in \u001b[0;36m<cell line: 4>\u001b[1;34m()\u001b[0m\n\u001b[0;32m      1\u001b[0m \u001b[38;5;66;03m# Q7) Take 3 integer input values, a b c, and print their sum. However, if one of\u001b[39;00m\n\u001b[0;32m      2\u001b[0m \u001b[38;5;66;03m#     the values is the same as another of the values, it does not count towards the sum.\u001b[39;00m\n\u001b[1;32m----> 4\u001b[0m a \u001b[38;5;241m=\u001b[39m \u001b[38;5;28mint\u001b[39m(\u001b[38;5;28;43minput\u001b[39;49m\u001b[43m(\u001b[49m\u001b[38;5;124;43m\"\u001b[39;49m\u001b[38;5;124;43menter no for a\u001b[39;49m\u001b[38;5;124;43m\"\u001b[39;49m\u001b[43m)\u001b[49m)\n\u001b[0;32m      5\u001b[0m b \u001b[38;5;241m=\u001b[39m \u001b[38;5;28mint\u001b[39m(\u001b[38;5;28minput\u001b[39m(\u001b[38;5;124m\"\u001b[39m\u001b[38;5;124menter no for b\u001b[39m\u001b[38;5;124m\"\u001b[39m))\n\u001b[0;32m      6\u001b[0m c \u001b[38;5;241m=\u001b[39m \u001b[38;5;28mint\u001b[39m(\u001b[38;5;28minput\u001b[39m(\u001b[38;5;124m\"\u001b[39m\u001b[38;5;124menter no for c\u001b[39m\u001b[38;5;124m\"\u001b[39m))\n",
      "File \u001b[1;32mC:\\ProgramData\\Anaconda3\\lib\\site-packages\\ipykernel\\kernelbase.py:1075\u001b[0m, in \u001b[0;36mKernel.raw_input\u001b[1;34m(self, prompt)\u001b[0m\n\u001b[0;32m   1071\u001b[0m \u001b[38;5;28;01mif\u001b[39;00m \u001b[38;5;129;01mnot\u001b[39;00m \u001b[38;5;28mself\u001b[39m\u001b[38;5;241m.\u001b[39m_allow_stdin:\n\u001b[0;32m   1072\u001b[0m     \u001b[38;5;28;01mraise\u001b[39;00m StdinNotImplementedError(\n\u001b[0;32m   1073\u001b[0m         \u001b[38;5;124m\"\u001b[39m\u001b[38;5;124mraw_input was called, but this frontend does not support input requests.\u001b[39m\u001b[38;5;124m\"\u001b[39m\n\u001b[0;32m   1074\u001b[0m     )\n\u001b[1;32m-> 1075\u001b[0m \u001b[38;5;28;01mreturn\u001b[39;00m \u001b[38;5;28;43mself\u001b[39;49m\u001b[38;5;241;43m.\u001b[39;49m\u001b[43m_input_request\u001b[49m\u001b[43m(\u001b[49m\n\u001b[0;32m   1076\u001b[0m \u001b[43m    \u001b[49m\u001b[38;5;28;43mstr\u001b[39;49m\u001b[43m(\u001b[49m\u001b[43mprompt\u001b[49m\u001b[43m)\u001b[49m\u001b[43m,\u001b[49m\n\u001b[0;32m   1077\u001b[0m \u001b[43m    \u001b[49m\u001b[38;5;28;43mself\u001b[39;49m\u001b[38;5;241;43m.\u001b[39;49m\u001b[43m_parent_ident\u001b[49m\u001b[43m[\u001b[49m\u001b[38;5;124;43m\"\u001b[39;49m\u001b[38;5;124;43mshell\u001b[39;49m\u001b[38;5;124;43m\"\u001b[39;49m\u001b[43m]\u001b[49m\u001b[43m,\u001b[49m\n\u001b[0;32m   1078\u001b[0m \u001b[43m    \u001b[49m\u001b[38;5;28;43mself\u001b[39;49m\u001b[38;5;241;43m.\u001b[39;49m\u001b[43mget_parent\u001b[49m\u001b[43m(\u001b[49m\u001b[38;5;124;43m\"\u001b[39;49m\u001b[38;5;124;43mshell\u001b[39;49m\u001b[38;5;124;43m\"\u001b[39;49m\u001b[43m)\u001b[49m\u001b[43m,\u001b[49m\n\u001b[0;32m   1079\u001b[0m \u001b[43m    \u001b[49m\u001b[43mpassword\u001b[49m\u001b[38;5;241;43m=\u001b[39;49m\u001b[38;5;28;43;01mFalse\u001b[39;49;00m\u001b[43m,\u001b[49m\n\u001b[0;32m   1080\u001b[0m \u001b[43m\u001b[49m\u001b[43m)\u001b[49m\n",
      "File \u001b[1;32mC:\\ProgramData\\Anaconda3\\lib\\site-packages\\ipykernel\\kernelbase.py:1120\u001b[0m, in \u001b[0;36mKernel._input_request\u001b[1;34m(self, prompt, ident, parent, password)\u001b[0m\n\u001b[0;32m   1117\u001b[0m             \u001b[38;5;28;01mbreak\u001b[39;00m\n\u001b[0;32m   1118\u001b[0m \u001b[38;5;28;01mexcept\u001b[39;00m \u001b[38;5;167;01mKeyboardInterrupt\u001b[39;00m:\n\u001b[0;32m   1119\u001b[0m     \u001b[38;5;66;03m# re-raise KeyboardInterrupt, to truncate traceback\u001b[39;00m\n\u001b[1;32m-> 1120\u001b[0m     \u001b[38;5;28;01mraise\u001b[39;00m \u001b[38;5;167;01mKeyboardInterrupt\u001b[39;00m(\u001b[38;5;124m\"\u001b[39m\u001b[38;5;124mInterrupted by user\u001b[39m\u001b[38;5;124m\"\u001b[39m) \u001b[38;5;28;01mfrom\u001b[39;00m \u001b[38;5;28mNone\u001b[39m\n\u001b[0;32m   1121\u001b[0m \u001b[38;5;28;01mexcept\u001b[39;00m \u001b[38;5;167;01mException\u001b[39;00m:\n\u001b[0;32m   1122\u001b[0m     \u001b[38;5;28mself\u001b[39m\u001b[38;5;241m.\u001b[39mlog\u001b[38;5;241m.\u001b[39mwarning(\u001b[38;5;124m\"\u001b[39m\u001b[38;5;124mInvalid Message:\u001b[39m\u001b[38;5;124m\"\u001b[39m, exc_info\u001b[38;5;241m=\u001b[39m\u001b[38;5;28;01mTrue\u001b[39;00m)\n",
      "\u001b[1;31mKeyboardInterrupt\u001b[0m: Interrupted by user"
     ]
    },
    {
     "name": "stdout",
     "output_type": "stream",
     "text": [
      "enter no for a4\n"
     ]
    }
   ],
   "source": [
    "# Q7) Take 3 integer input values, a b c, and print their sum. However, if one of\n",
    "#     the values is the same as another of the values, it does not count towards the sum.\n",
    "\n",
    "a = int(input(\"enter no for a\"))\n",
    "b = int(input(\"enter no for b\"))\n",
    "c = int(input(\"enter no for c\"))\n",
    "\n",
    "sum = (a + b +c)\n",
    "\n",
    "if (a==b):\n",
    "    sum=(b+c)\n",
    "    print(sum)\n",
    "elif(b==c):\n",
    "    sum=(a+c)\n",
    "    print(sum)\n",
    "elif(c==a):\n",
    "    sum=(a+b)\n",
    "\n",
    "else:\n",
    "    print(sum)\n"
   ]
  },
  {
   "cell_type": "code",
   "execution_count": 38,
   "id": "578ba4b5",
   "metadata": {},
   "outputs": [
    {
     "ename": "TypeError",
     "evalue": "'int' object is not callable",
     "output_type": "error",
     "traceback": [
      "\u001b[1;31m---------------------------------------------------------------------------\u001b[0m",
      "\u001b[1;31mTypeError\u001b[0m                                 Traceback (most recent call last)",
      "Input \u001b[1;32mIn [38]\u001b[0m, in \u001b[0;36m<cell line: 7>\u001b[1;34m()\u001b[0m\n\u001b[0;32m      1\u001b[0m \u001b[38;5;66;03m# Q8) You and your date are trying to get a table at a restaurant. The parameter \"you\" is the stylishness of\u001b[39;00m\n\u001b[0;32m      2\u001b[0m \u001b[38;5;66;03m#     your clothes, in the range 0..10, and \"date\" is the stylishness of your date's clothes. The result\u001b[39;00m\n\u001b[0;32m      3\u001b[0m \u001b[38;5;66;03m#     getting the table is encoded as an int value with 0=no, 1=maybe, 2=yes. If either of you is very\u001b[39;00m\n\u001b[0;32m      4\u001b[0m \u001b[38;5;66;03m#     stylish, 8 or more, then the result is 2 (yes). With the exception that if either of you has style of 2 or\u001b[39;00m\n\u001b[0;32m      5\u001b[0m \u001b[38;5;66;03m#     less, then the result is 0 (no). Otherwise the result is 1 (maybe).\u001b[39;00m\n\u001b[1;32m----> 7\u001b[0m your_parameter \u001b[38;5;241m=\u001b[39m \u001b[38;5;28mint\u001b[39m(\u001b[38;5;28;43minput\u001b[39;49m\u001b[43m(\u001b[49m\u001b[38;5;124;43m\"\u001b[39;49m\u001b[38;5;124;43menter your parameter between 0 to 10 \u001b[39;49m\u001b[38;5;124;43m\"\u001b[39;49m\u001b[43m)\u001b[49m)\n\u001b[0;32m      8\u001b[0m your_date_parameter \u001b[38;5;241m=\u001b[39m \u001b[38;5;28mint\u001b[39m(\u001b[38;5;28minput\u001b[39m(\u001b[38;5;124m\"\u001b[39m\u001b[38;5;124menter your parameter between 0 to 10 \u001b[39m\u001b[38;5;124m\"\u001b[39m))\n\u001b[0;32m     10\u001b[0m \u001b[38;5;28;01mif\u001b[39;00m (your_parameter\u001b[38;5;241m>\u001b[39m\u001b[38;5;241m=\u001b[39m\u001b[38;5;241m8\u001b[39m \u001b[38;5;129;01mand\u001b[39;00m your_date_parameter\u001b[38;5;241m<\u001b[39m\u001b[38;5;241m8\u001b[39m) \u001b[38;5;129;01mor\u001b[39;00m (your_parameter\u001b[38;5;241m<\u001b[39m\u001b[38;5;241m8\u001b[39m \u001b[38;5;129;01mand\u001b[39;00m your_date_parameter\u001b[38;5;241m>\u001b[39m\u001b[38;5;241m=\u001b[39m\u001b[38;5;241m8\u001b[39m):\n",
      "\u001b[1;31mTypeError\u001b[0m: 'int' object is not callable"
     ]
    }
   ],
   "source": [
    "# Q8) You and your date are trying to get a table at a restaurant. The parameter \"you\" is the stylishness of\n",
    "#     your clothes, in the range 0..10, and \"date\" is the stylishness of your date's clothes. The result\n",
    "#     getting the table is encoded as an int value with 0=no, 1=maybe, 2=yes. If either of you is very\n",
    "#     stylish, 8 or more, then the result is 2 (yes). With the exception that if either of you has style of 2 or\n",
    "#     less, then the result is 0 (no). Otherwise the result is 1 (maybe).\n",
    "\n",
    "your_parameter = int(input(\"enter your parameter between 0 to 10 \"))\n",
    "your_date_parameter = int(input(\"enter your parameter between 0 to 10 \"))\n",
    "\n",
    "if (your_parameter>=8 and your_date_parameter<8) or (your_parameter<8 and your_date_parameter>=8):\n",
    "\tprint(\"Yes\")\n",
    "elif (your_parameter<=2 and Your_date_parameter<=2):\n",
    "\tPrint(\"No\")\n",
    "elif (your_paramete>10 or Your_date_parameter>10):\n",
    "\tprint(\"invalid input \")\n",
    "else:\n",
    "\tprint(\"may Be \")\n",
    "\n"
   ]
  },
  {
   "cell_type": "code",
   "execution_count": 41,
   "id": "ceb9995c",
   "metadata": {},
   "outputs": [
    {
     "ename": "TypeError",
     "evalue": "'int' object is not callable",
     "output_type": "error",
     "traceback": [
      "\u001b[1;31m---------------------------------------------------------------------------\u001b[0m",
      "\u001b[1;31mTypeError\u001b[0m                                 Traceback (most recent call last)",
      "Input \u001b[1;32mIn [41]\u001b[0m, in \u001b[0;36m<cell line: 3>\u001b[1;34m()\u001b[0m\n\u001b[0;32m      1\u001b[0m \u001b[38;5;66;03m# Q9) Given 2 integr input a and b, print their sum. However, if sums(addition) is in the range of 10..19 inclusive, are forbidden, so in that case just print 20.\u001b[39;00m\n\u001b[1;32m----> 3\u001b[0m a \u001b[38;5;241m=\u001b[39m \u001b[38;5;28mint\u001b[39m(\u001b[38;5;28;43minput\u001b[39;49m\u001b[43m(\u001b[49m\u001b[38;5;124;43m\"\u001b[39;49m\u001b[38;5;124;43menter no\u001b[39;49m\u001b[38;5;124;43m\"\u001b[39;49m\u001b[43m)\u001b[49m)\n\u001b[0;32m      4\u001b[0m b \u001b[38;5;241m=\u001b[39m \u001b[38;5;28mint\u001b[39m(\u001b[38;5;28minput\u001b[39m(\u001b[38;5;124m\"\u001b[39m\u001b[38;5;124menter another no\u001b[39m\u001b[38;5;124m\"\u001b[39m))\n\u001b[0;32m      6\u001b[0m \u001b[38;5;28msum\u001b[39m \u001b[38;5;241m=\u001b[39m (a\u001b[38;5;241m+\u001b[39mb)\n",
      "\u001b[1;31mTypeError\u001b[0m: 'int' object is not callable"
     ]
    }
   ],
   "source": [
    "# Q9) Given 2 integr input a and b, print their sum. However, if sums(addition) is in the range of 10..19 inclusive, are forbidden, so in that case just print 20.\n",
    "\n",
    "a = int(input(\"enter no \"))\n",
    "b = int(input(\"enter another no \"))\n",
    "\n",
    "sum = (a+b)\n",
    "\n",
    "if (sum>=10 and sum<=19):\n",
    "\tprint(20)\n",
    "else:\n",
    "\tprint(sum)\n"
   ]
  },
  {
   "cell_type": "code",
   "execution_count": 43,
   "id": "891630bb",
   "metadata": {},
   "outputs": [
    {
     "ename": "TypeError",
     "evalue": "'int' object is not callable",
     "output_type": "error",
     "traceback": [
      "\u001b[1;31m---------------------------------------------------------------------------\u001b[0m",
      "\u001b[1;31mTypeError\u001b[0m                                 Traceback (most recent call last)",
      "Input \u001b[1;32mIn [43]\u001b[0m, in \u001b[0;36m<cell line: 5>\u001b[1;34m()\u001b[0m\n\u001b[0;32m      1\u001b[0m \u001b[38;5;66;03m# Q10) Write a Program to take integer input from the user as year and check\u001b[39;00m\n\u001b[0;32m      2\u001b[0m \u001b[38;5;66;03m#      whether the given year is a leap year or not.\u001b[39;00m\n\u001b[0;32m      3\u001b[0m \u001b[38;5;66;03m#      Hint: A year must either be divisible by 400 or divisible by 4 and not 100.\u001b[39;00m\n\u001b[1;32m----> 5\u001b[0m inp_year \u001b[38;5;241m=\u001b[39m \u001b[38;5;28mint\u001b[39m(\u001b[38;5;28;43minput\u001b[39;49m\u001b[43m(\u001b[49m\u001b[38;5;124;43m\"\u001b[39;49m\u001b[38;5;124;43menter input as year \u001b[39;49m\u001b[38;5;124;43m\"\u001b[39;49m\u001b[43m)\u001b[49m)\n\u001b[0;32m      7\u001b[0m \u001b[38;5;28;01mif\u001b[39;00m (inp_year\u001b[38;5;241m%\u001b[39m\u001b[38;5;241m400\u001b[39m\u001b[38;5;241m==\u001b[39m\u001b[38;5;241m0\u001b[39m):\n\u001b[0;32m      8\u001b[0m \t\u001b[38;5;28mprint\u001b[39m(\u001b[38;5;124m\"\u001b[39m\u001b[38;5;124minp_year is leap year\u001b[39m\u001b[38;5;124m\"\u001b[39m)\n",
      "\u001b[1;31mTypeError\u001b[0m: 'int' object is not callable"
     ]
    }
   ],
   "source": [
    "# Q10) Write a Program to take integer input from the user as year and check\n",
    "#      whether the given year is a leap year or not.\n",
    "#      Hint: A year must either be divisible by 400 or divisible by 4 and not 100.\n",
    "\n",
    "inp_year = int(input(\"enter input as year \"))\n",
    "\n",
    "if (inp_year%400==0):\n",
    "\tprint(\"inp_year is leap year\")\n",
    "elif (inp_year%4==0):\n",
    "\tprint(\"inp_year is leap year\")\n",
    "elif (inp_year%100==0):\n",
    "\tprint(\"inp_year is not leap year\")\n",
    "else:\n",
    "\t(\"invalid year\")"
   ]
  },
  {
   "cell_type": "code",
   "execution_count": null,
   "id": "30a97ff3",
   "metadata": {},
   "outputs": [],
   "source": []
  }
 ],
 "metadata": {
  "kernelspec": {
   "display_name": "Python 3 (ipykernel)",
   "language": "python",
   "name": "python3"
  },
  "language_info": {
   "codemirror_mode": {
    "name": "ipython",
    "version": 3
   },
   "file_extension": ".py",
   "mimetype": "text/x-python",
   "name": "python",
   "nbconvert_exporter": "python",
   "pygments_lexer": "ipython3",
   "version": "3.9.12"
  }
 },
 "nbformat": 4,
 "nbformat_minor": 5
}
